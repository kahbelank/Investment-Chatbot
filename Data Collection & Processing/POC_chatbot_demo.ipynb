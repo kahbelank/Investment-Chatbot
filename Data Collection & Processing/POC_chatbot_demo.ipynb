{
 "cells": [
  {
   "cell_type": "code",
   "execution_count": 3,
   "metadata": {},
   "outputs": [
    {
     "name": "stdout",
     "output_type": "stream",
     "text": [
      "Your Low-Risk portfolio contains the following assets: ['PEP', 'PG', 'KO', 'JNJ', 'BRK-B', 'MRK', 'PFE', 'XOM', 'CVX', 'JPM', 'HD', 'V', '30yr Treasury Yield', 'BTC']\n",
      "\n",
      "Weights per Asset Class (Stocks/Bonds/Crypto): [0.88, 0.06, 0.06]\n",
      "How much cash the portfolio will allocate towards each asset class: ['$13200.0', '$900.0', '$900.0']\n",
      "\n",
      "AFTER DETERMINING PORTFOLIO ALLOCATION DISPLAY FORECASTS FOR EACH OF THE ASSETS CHOSEN BASED ON THE FORECAST MODELS\n"
     ]
    }
   ],
   "source": [
    "'''\n",
    "Proof of concept to generate an investment portfolio based off of the user's age and portfolio risk preference\n",
    "\n",
    "Portfolio Asset Classes --> Stocks / Bonds / Crypto \n",
    "\n",
    "Used Modern Portfolio Theory to classify assets as high risk, low risk, or moderate risk \n",
    "\n",
    "Used 110 rule to determine portfolio weights and determine how much buying power the user will allocate towards each asset class \n",
    "'''\n",
    "\n",
    "portfolio_list = []\n",
    "weights_list = []\n",
    "user_buying_power_allocation = []\n",
    "\n",
    "# Ask for user age first\n",
    "user_age = int(input(\"Please enter your age: \"))\n",
    "\n",
    "# Ask for the amount to invest\n",
    "user_buying_power = int(input(\"Please enter how much money you want to invest: \"))\n",
    "\n",
    "# Ask for portfolio type\n",
    "user_input = input(\"Please pick one of the following portfolio options: (High Risk Portfolio, Low Risk Portfolio, Moderate Portfolio)\")\n",
    "\n",
    "# Determine user weights \n",
    "def determine_weights(): \n",
    "    user_stock_weights = 110 - user_age\n",
    "    user_bonds_crypto_weights = (100 - user_stock_weights) / 2\n",
    "\n",
    "    user_bonds_crypto_weights = user_bonds_crypto_weights / 100\n",
    "    user_stock_weights = user_stock_weights / 100\n",
    "\n",
    "    weights_list.append(user_stock_weights)\n",
    "    weights_list.append(user_bonds_crypto_weights)\n",
    "    weights_list.append(user_bonds_crypto_weights)\n",
    "\n",
    "# Determine the allocation of users buying power based on calculated weights \n",
    "def allocate_portfolio():\n",
    "    for weight in weights_list: \n",
    "        investments_per_asset = user_buying_power * weight\n",
    "        user_buying_power_allocation.append('$' + str(investments_per_asset))\n",
    "\n",
    "# Portfolio selection and allocation process\n",
    "if user_input == 'high risk portfolio': \n",
    "    portfolio_list = ['TSLA', 'NVDA', '10yr Treasury Yield', 'ETH']\n",
    "    print(f'Your High-Risk portfolio contains the following assets: {portfolio_list}')\n",
    "\n",
    "elif user_input == 'low risk portfolio': \n",
    "    portfolio_list = ['PEP', 'PG', 'KO', 'JNJ', 'BRK-B', 'MRK', 'PFE', \n",
    "                      'XOM', 'CVX','JPM', 'HD', 'V', '30yr Treasury Yield', 'BTC']\n",
    "    print(f'Your Low-Risk portfolio contains the following assets: {portfolio_list}')\n",
    "\n",
    "elif user_input == 'moderate portfolio': \n",
    "    portfolio_list = ['UNH', 'MSFT', 'LLY', 'MA', 'GOOG', 'GOOGL', 'ABBV', \n",
    "                      'BAC', 'AAPL','AMZN', 'META', '30yr Treasury Yield', 'BTC']\n",
    "    print(f'Your Moderate portfolio contains the following assets: {portfolio_list}')\n",
    "\n",
    "# Calculate weights for portfolio\n",
    "determine_weights()\n",
    "\n",
    "# Allocate users buying power towards each asset class based off of calculated weights\n",
    "allocate_portfolio()\n",
    "\n",
    "# Output the results\n",
    "print(f'\\nWeights per Asset Class (Stocks/Bonds/Crypto): {weights_list}')\n",
    "print(f'How much cash the portfolio will allocate towards each asset class: {user_buying_power_allocation}')\n",
    "print('\\nAFTER DETERMINING PORTFOLIO ALLOCATION DISPLAY FORECASTS FOR EACH OF THE ASSETS CHOSEN BASED ON THE FORECAST MODELS')\n"
   ]
  }
 ],
 "metadata": {
  "kernelspec": {
   "display_name": "Python 3",
   "language": "python",
   "name": "python3"
  },
  "language_info": {
   "codemirror_mode": {
    "name": "ipython",
    "version": 3
   },
   "file_extension": ".py",
   "mimetype": "text/x-python",
   "name": "python",
   "nbconvert_exporter": "python",
   "pygments_lexer": "ipython3",
   "version": "3.10.2"
  }
 },
 "nbformat": 4,
 "nbformat_minor": 2
}
